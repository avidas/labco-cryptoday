{
 "cells": [
  {
   "cell_type": "code",
   "execution_count": 2,
   "metadata": {},
   "outputs": [],
   "source": [
    "from mnemonic import Mnemonic\n",
    "import random"
   ]
  },
  {
   "cell_type": "code",
   "execution_count": 3,
   "metadata": {},
   "outputs": [],
   "source": [
    " m = Mnemonic('english')\n"
   ]
  },
  {
   "cell_type": "code",
   "execution_count": 22,
   "metadata": {},
   "outputs": [],
   "source": [
    "import random, string, time, sys\n",
    "from binascii import hexlify, unhexlify\n",
    "def calcular():\n",
    "    letters = ''.join(random.choice(string.ascii_letters) for n in range(32))\n",
    "    return letters\n",
    "    \n",
    "seed = calcular()"
   ]
  },
  {
   "cell_type": "code",
   "execution_count": 5,
   "metadata": {},
   "outputs": [
    {
     "data": {
      "text/plain": [
       "b'fjFyDCTTrKrBhSBbACMpHzhbHhuetNZy'"
      ]
     },
     "execution_count": 5,
     "metadata": {},
     "output_type": "execute_result"
    }
   ],
   "source": [
    "seed.encode('utf-8')"
   ]
  },
  {
   "cell_type": "code",
   "execution_count": 7,
   "metadata": {},
   "outputs": [
    {
     "name": "stdout",
     "output_type": "stream",
     "text": [
      "grid fall oxygen mass crystal clay since hour draw dream spatial setup before pluck scorpion aunt half banner borrow turn firm cheese hazard craft\n"
     ]
    }
   ],
   "source": [
    "mnemonic_gen = m.to_mnemonic(seed.encode('utf-8'))\n",
    "print(mnemonic_gen)"
   ]
  },
  {
   "cell_type": "code",
   "execution_count": 14,
   "metadata": {},
   "outputs": [
    {
     "name": "stdout",
     "output_type": "stream",
     "text": [
      "b'lV\\xa4\\x80\\x92\\x1b0c\\xe2q\\xfa\\xde\\xa75\\x8f^\\xe4\\xb8\\xff\\x1f~\\xab\\xc1\\xa6\\x08\\xa2\\x0c\\x9eB\\xf3\\x80W\\xb9\\xfb\\xc7\\xb1Eg\\x8f\\xac\\xf3\\x0ew4\\xf7\\x82yP\\xc8O\\xb4.\\\\\\x15\\x84\\x0ci\\x83h\\xb4\\xff{\\xd9\\xaa'\n"
     ]
    }
   ],
   "source": [
    "val = Mnemonic.to_seed(mnemonic_gen, '')\n",
    "print(val)"
   ]
  },
  {
   "cell_type": "code",
   "execution_count": 16,
   "metadata": {},
   "outputs": [
    {
     "data": {
      "text/plain": [
       "bytearray(b'fjFyDCTTrKrBhSBbACMpHzhbHhuetNZy')"
      ]
     },
     "execution_count": 16,
     "metadata": {},
     "output_type": "execute_result"
    }
   ],
   "source": [
    "m.to_entropy(words=mnemonic_gen)"
   ]
  },
  {
   "cell_type": "code",
   "execution_count": 31,
   "metadata": {},
   "outputs": [],
   "source": [
    "from bip32utils import BIP32Key"
   ]
  },
  {
   "cell_type": "code",
   "execution_count": 18,
   "metadata": {},
   "outputs": [],
   "source": [
    "xprv = BIP32Key.fromEntropy(val).ExtendedKey()"
   ]
  },
  {
   "cell_type": "code",
   "execution_count": 19,
   "metadata": {},
   "outputs": [
    {
     "data": {
      "text/plain": [
       "'xprv9s21ZrQH143K2hJ8vEtHmYuHCb7DNdXtjtqckrUbJtqsDiudXAQqKi6B1U2WgzwQkMQ1C8ELKERSryAXGT7M8e1sAMQ5kZVgQ36vRAo2Neu'"
      ]
     },
     "execution_count": 19,
     "metadata": {},
     "output_type": "execute_result"
    }
   ],
   "source": [
    "xprv"
   ]
  },
  {
   "cell_type": "code",
   "execution_count": 20,
   "metadata": {},
   "outputs": [],
   "source": [
    "def b2h(b):\n",
    "    h = hexlify(b)\n",
    "    return h if sys.version < '3' else h.decode('utf8')"
   ]
  },
  {
   "cell_type": "code",
   "execution_count": 24,
   "metadata": {
    "scrolled": true
   },
   "outputs": [
    {
     "name": "stdout",
     "output_type": "stream",
     "text": [
      "6c56a480921b3063e271fadea7358f5ee4b8ff1f7eabc1a608a20c9e42f38057b9fbc7b145678facf30e7734f7827950c84fb42e5c15840c698368b4ff7bd9aa\n"
     ]
    }
   ],
   "source": [
    "s = b2h(val)\n",
    "print(s)"
   ]
  },
  {
   "cell_type": "code",
   "execution_count": 39,
   "metadata": {},
   "outputs": [
    {
     "name": "stdout",
     "output_type": "stream",
     "text": [
      "tprv8ZgxMBicQKsPdWXfaojnwCXGWiXRc9Zu5SkjdGu3nsLM1KeiWXkaqTTcveCAhNKj7nvnCDr6Ub1FKpiGPfTHwhHTgzcPQvDjK8rLrq97LYX\n"
     ]
    }
   ],
   "source": [
    "prv = BIP32Key.fromEntropy(val, testnet=True).ExtendedKey(private=True)\n",
    "print(prv)"
   ]
  },
  {
   "cell_type": "code",
   "execution_count": 27,
   "metadata": {},
   "outputs": [],
   "source": [
    "publ = BIP32Key.fromEntropy(val, testnet=True).ExtendedKey(private=False)"
   ]
  },
  {
   "cell_type": "code",
   "execution_count": 28,
   "metadata": {},
   "outputs": [
    {
     "data": {
      "text/plain": [
       "'tpubD6NzVbkrYhZ4WyZTUTQPLcBP5k3MmUkoekMWunwMD98jqouV8vaB1x5V6mfFUuTgpMcPizJAMsdsCoQvR5FZCo2iQCP6Uum43cVDXAtYAbu'"
      ]
     },
     "execution_count": 28,
     "metadata": {},
     "output_type": "execute_result"
    }
   ],
   "source": [
    "BIP32Key.publP2WPKHoP2SHAddress"
   ]
  },
  {
   "cell_type": "code",
   "execution_count": 36,
   "metadata": {},
   "outputs": [
    {
     "name": "stdout",
     "output_type": "stream",
     "text": [
      "mjPE1izMv7pB5RchpmytWuPxurn8aMX3e1\n"
     ]
    }
   ],
   "source": [
    "addr = BIP32Key.fromEntropy(val, testnet=True).Address()\n",
    "print(addr)"
   ]
  },
  {
   "cell_type": "code",
   "execution_count": null,
   "metadata": {},
   "outputs": [],
   "source": []
  }
 ],
 "metadata": {
  "kernelspec": {
   "display_name": "Python 3",
   "language": "python",
   "name": "python3"
  },
  "language_info": {
   "codemirror_mode": {
    "name": "ipython",
    "version": 3
   },
   "file_extension": ".py",
   "mimetype": "text/x-python",
   "name": "python",
   "nbconvert_exporter": "python",
   "pygments_lexer": "ipython3",
   "version": "3.6.4"
  }
 },
 "nbformat": 4,
 "nbformat_minor": 2
}
